{
  "cells": [
    {
      "cell_type": "code",
      "source": [
        "!pip install SpeechRecognition moviepy\n",
        "!pip install imageio-ffmpeg\n",
        "!pip install imageio==2.4.1"
      ],
      "metadata": {
        "id": "TzqFyhYmaA7e"
      },
      "execution_count": null,
      "outputs": []
    },
    {
      "cell_type": "code",
      "source": [],
      "metadata": {
        "id": "Jf42GOToVsZR"
      },
      "execution_count": null,
      "outputs": []
    },
    {
      "cell_type": "code",
      "execution_count": null,
      "metadata": {
        "id": "QBvyV_rDZ4Io"
      },
      "outputs": [],
      "source": [
        "import speech_recognition as sr \n",
        "import moviepy.editor as mp"
      ]
    },
    {
      "cell_type": "code",
      "execution_count": null,
      "metadata": {
        "id": "WgsazLgOZ4Ir",
        "colab": {
          "base_uri": "https://localhost:8080/"
        },
        "outputId": "d3f2f9ba-6119-41e4-9d34-c6b54238ec70"
      },
      "outputs": [
        {
          "output_type": "stream",
          "name": "stdout",
          "text": [
            "MoviePy - Writing audio in converted_lesson2.wav\n"
          ]
        },
        {
          "output_type": "stream",
          "name": "stderr",
          "text": [
            "                                                                    "
          ]
        },
        {
          "output_type": "stream",
          "name": "stdout",
          "text": [
            "MoviePy - Done.\n"
          ]
        },
        {
          "output_type": "stream",
          "name": "stderr",
          "text": [
            "\r"
          ]
        }
      ],
      "source": [
        "clip = mp.VideoFileClip(r\"ErnestoSample.mp4\")\n",
        "clip.audio.write_audiofile(r\"converted_lesson2.wav\")"
      ]
    },
    {
      "cell_type": "code",
      "execution_count": null,
      "metadata": {
        "id": "hwiYsSv8Z4It"
      },
      "outputs": [],
      "source": [
        "r = sr.Recognizer()"
      ]
    },
    {
      "cell_type": "code",
      "execution_count": null,
      "metadata": {
        "id": "-I11nTq2Z4Iu"
      },
      "outputs": [],
      "source": [
        "audio = sr.AudioFile(\"converted_lesson2.wav\")"
      ]
    },
    {
      "cell_type": "code",
      "execution_count": null,
      "metadata": {
        "id": "g27RzOFoZ4Iu",
        "colab": {
          "base_uri": "https://localhost:8080/"
        },
        "outputId": "4ac9e53e-8240-4f79-8516-d032f3a5e22f"
      },
      "outputs": [
        {
          "output_type": "execute_result",
          "data": {
            "text/plain": [
              "speech_recognition.AudioFile"
            ]
          },
          "metadata": {},
          "execution_count": 6
        }
      ],
      "source": [
        "type(audio)"
      ]
    },
    {
      "cell_type": "code",
      "execution_count": null,
      "metadata": {
        "id": "4l74tQ-vZ4Iv"
      },
      "outputs": [],
      "source": [
        "with audio as source:\n",
        "  audio_file = r.record(source)\n",
        "result = r.recognize_google(audio_file)"
      ]
    },
    {
      "cell_type": "code",
      "execution_count": null,
      "metadata": {
        "id": "Lm_slClhZ4Iw",
        "colab": {
          "base_uri": "https://localhost:8080/"
        },
        "outputId": "898040cb-770e-433f-eed4-e10e90a8117a"
      },
      "outputs": [
        {
          "output_type": "stream",
          "name": "stdout",
          "text": [
            "ready!\n"
          ]
        }
      ],
      "source": [
        "# exporting the result \n",
        "with open('more_recognized.txt',mode ='w') as file: \n",
        "   file.write(\"Recognized Speech:\") \n",
        "   file.write(\"\\n\") \n",
        "   file.write(result) \n",
        "   print(\"ready!\")"
      ]
    },
    {
      "cell_type": "code",
      "execution_count": null,
      "metadata": {
        "id": "fcQBN0gUZ4Iy"
      },
      "outputs": [],
      "source": [
        "!pip install git+https://github.com/openai/whisper.git "
      ]
    },
    {
      "cell_type": "code",
      "execution_count": null,
      "metadata": {
        "id": "e6PEVYdWZ4Iz",
        "colab": {
          "base_uri": "https://localhost:8080/"
        },
        "outputId": "72dec7d0-a109-4239-dea8-495c94531f5d"
      },
      "outputs": [
        {
          "output_type": "stream",
          "name": "stdout",
          "text": [
            "100%|███████████████████████████████████████| 461M/461M [00:06<00:00, 71.4MiB/s]\n",
            "/usr/local/lib/python3.10/dist-packages/whisper/transcribe.py:114: UserWarning: FP16 is not supported on CPU; using FP32 instead\n",
            "  warnings.warn(\"FP16 is not supported on CPU; using FP32 instead\")\n"
          ]
        }
      ],
      "source": [
        "!whisper \"/content/converted_lesson2.wav\" --language Spanish"
      ]
    },
    {
      "cell_type": "code",
      "execution_count": null,
      "metadata": {
        "id": "1RikdItZZ4Iz"
      },
      "outputs": [],
      "source": []
    },
    {
      "cell_type": "code",
      "execution_count": null,
      "metadata": {
        "id": "7b0zLtomZ4I0"
      },
      "outputs": [],
      "source": []
    },
    {
      "cell_type": "code",
      "execution_count": null,
      "metadata": {
        "id": "DHGe6EarZ4I0"
      },
      "outputs": [],
      "source": []
    }
  ],
  "metadata": {
    "kernelspec": {
      "display_name": "Python 3",
      "language": "python",
      "name": "python3"
    },
    "language_info": {
      "codemirror_mode": {
        "name": "ipython",
        "version": 3
      },
      "file_extension": ".py",
      "mimetype": "text/x-python",
      "name": "python",
      "nbconvert_exporter": "python",
      "pygments_lexer": "ipython3",
      "version": "3.7.3"
    },
    "colab": {
      "provenance": []
    }
  },
  "nbformat": 4,
  "nbformat_minor": 0
}